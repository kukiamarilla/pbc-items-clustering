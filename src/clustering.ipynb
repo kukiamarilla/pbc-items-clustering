{
 "cells": [
  {
   "cell_type": "code",
   "execution_count": 15,
   "metadata": {},
   "outputs": [
    {
     "data": {
      "text/html": [
       "<div>\n",
       "<style scoped>\n",
       "    .dataframe tbody tr th:only-of-type {\n",
       "        vertical-align: middle;\n",
       "    }\n",
       "\n",
       "    .dataframe tbody tr th {\n",
       "        vertical-align: top;\n",
       "    }\n",
       "\n",
       "    .dataframe thead th {\n",
       "        text-align: right;\n",
       "    }\n",
       "</style>\n",
       "<table border=\"1\" class=\"dataframe\">\n",
       "  <thead>\n",
       "    <tr style=\"text-align: right;\">\n",
       "      <th></th>\n",
       "      <th>tender_id</th>\n",
       "      <th>category</th>\n",
       "      <th>items</th>\n",
       "    </tr>\n",
       "  </thead>\n",
       "  <tbody>\n",
       "    <tr>\n",
       "      <th>0</th>\n",
       "      <td>443159</td>\n",
       "      <td>Servicios Personales y Domesticos</td>\n",
       "      <td>{\"items\": [{\"item\": 1, \"description\": \"Atenci\\...</td>\n",
       "    </tr>\n",
       "    <tr>\n",
       "      <th>1</th>\n",
       "      <td>439682</td>\n",
       "      <td>Servicios Personales y Domesticos</td>\n",
       "      <td>{\"items\": [{\"item\": 1, \"description\": \"Servici...</td>\n",
       "    </tr>\n",
       "    <tr>\n",
       "      <th>2</th>\n",
       "      <td>455319</td>\n",
       "      <td>Servicios Personales y Domesticos</td>\n",
       "      <td>{\"items\": [{\"item\": 1, \"description\": \"Servici...</td>\n",
       "    </tr>\n",
       "    <tr>\n",
       "      <th>3</th>\n",
       "      <td>445699</td>\n",
       "      <td>Servicios Personales y Domesticos</td>\n",
       "      <td>{\"items\": [{\"item\": 1, \"description\": \"Servici...</td>\n",
       "    </tr>\n",
       "    <tr>\n",
       "      <th>4</th>\n",
       "      <td>447045</td>\n",
       "      <td>Servicios Personales y Domesticos</td>\n",
       "      <td>{\"items\": [{\"item\": 1, \"description\": \"Servici...</td>\n",
       "    </tr>\n",
       "  </tbody>\n",
       "</table>\n",
       "</div>"
      ],
      "text/plain": [
       "   tender_id                           category  \\\n",
       "0     443159  Servicios Personales y Domesticos   \n",
       "1     439682  Servicios Personales y Domesticos   \n",
       "2     455319  Servicios Personales y Domesticos   \n",
       "3     445699  Servicios Personales y Domesticos   \n",
       "4     447045  Servicios Personales y Domesticos   \n",
       "\n",
       "                                               items  \n",
       "0  {\"items\": [{\"item\": 1, \"description\": \"Atenci\\...  \n",
       "1  {\"items\": [{\"item\": 1, \"description\": \"Servici...  \n",
       "2  {\"items\": [{\"item\": 1, \"description\": \"Servici...  \n",
       "3  {\"items\": [{\"item\": 1, \"description\": \"Servici...  \n",
       "4  {\"items\": [{\"item\": 1, \"description\": \"Servici...  "
      ]
     },
     "execution_count": 15,
     "metadata": {},
     "output_type": "execute_result"
    }
   ],
   "source": [
    "import pandas as pd\n",
    "\n",
    "# Load the file to check its structure and content\n",
    "file_path = '../extracted/tender.csv'\n",
    "data = pd.read_csv(file_path)\n",
    "\n",
    "# Display the first few rows of the dataset to understand its structure\n",
    "data.head()"
   ]
  },
  {
   "cell_type": "code",
   "execution_count": 16,
   "metadata": {},
   "outputs": [
    {
     "data": {
      "text/html": [
       "<div>\n",
       "<style scoped>\n",
       "    .dataframe tbody tr th:only-of-type {\n",
       "        vertical-align: middle;\n",
       "    }\n",
       "\n",
       "    .dataframe tbody tr th {\n",
       "        vertical-align: top;\n",
       "    }\n",
       "\n",
       "    .dataframe thead th {\n",
       "        text-align: right;\n",
       "    }\n",
       "</style>\n",
       "<table border=\"1\" class=\"dataframe\">\n",
       "  <thead>\n",
       "    <tr style=\"text-align: right;\">\n",
       "      <th></th>\n",
       "      <th>tender_id</th>\n",
       "      <th>category</th>\n",
       "      <th>item_descriptions</th>\n",
       "    </tr>\n",
       "  </thead>\n",
       "  <tbody>\n",
       "    <tr>\n",
       "      <th>0</th>\n",
       "      <td>443159</td>\n",
       "      <td>Servicios Personales y Domesticos</td>\n",
       "      <td>Atención integral para 50 niños</td>\n",
       "    </tr>\n",
       "    <tr>\n",
       "      <th>1</th>\n",
       "      <td>443159</td>\n",
       "      <td>Servicios Personales y Domesticos</td>\n",
       "      <td>Alimentación para 50 niños</td>\n",
       "    </tr>\n",
       "    <tr>\n",
       "      <th>2</th>\n",
       "      <td>443159</td>\n",
       "      <td>Servicios Personales y Domesticos</td>\n",
       "      <td>Personal de salud (1 Licenciado en Enfermería)</td>\n",
       "    </tr>\n",
       "    <tr>\n",
       "      <th>3</th>\n",
       "      <td>443159</td>\n",
       "      <td>Servicios Personales y Domesticos</td>\n",
       "      <td>Nutricionista</td>\n",
       "    </tr>\n",
       "    <tr>\n",
       "      <th>4</th>\n",
       "      <td>443159</td>\n",
       "      <td>Servicios Personales y Domesticos</td>\n",
       "      <td>Personal de limpieza (1 persona)</td>\n",
       "    </tr>\n",
       "  </tbody>\n",
       "</table>\n",
       "</div>"
      ],
      "text/plain": [
       "   tender_id                           category  \\\n",
       "0     443159  Servicios Personales y Domesticos   \n",
       "1     443159  Servicios Personales y Domesticos   \n",
       "2     443159  Servicios Personales y Domesticos   \n",
       "3     443159  Servicios Personales y Domesticos   \n",
       "4     443159  Servicios Personales y Domesticos   \n",
       "\n",
       "                                item_descriptions  \n",
       "0                 Atención integral para 50 niños  \n",
       "1                      Alimentación para 50 niños  \n",
       "2  Personal de salud (1 Licenciado en Enfermería)  \n",
       "3                                   Nutricionista  \n",
       "4                Personal de limpieza (1 persona)  "
      ]
     },
     "execution_count": 16,
     "metadata": {},
     "output_type": "execute_result"
    }
   ],
   "source": [
    "\n",
    "import json\n",
    "\n",
    "# Extract and structure the \"items\" column data\n",
    "def extract_items(row):\n",
    "    try:\n",
    "        items = json.loads(row)['items']\n",
    "        return [item['description'] for item in items]\n",
    "    except (KeyError, TypeError, json.JSONDecodeError):\n",
    "        return []\n",
    "\n",
    "# Apply the function to the \"items\" column\n",
    "data['item_descriptions'] = data['items'].apply(extract_items)\n",
    "\n",
    "# Flatten the dataset to have one row per item description\n",
    "items_data = data.explode('item_descriptions')[['tender_id', 'category', 'item_descriptions']]\n",
    "\n",
    "# Drop rows with missing item descriptions\n",
    "items_data = items_data.dropna(subset=['item_descriptions']).reset_index(drop=True)\n",
    "\n",
    "# Display the structured data for items\n",
    "items_data.head()"
   ]
  },
  {
   "cell_type": "code",
   "execution_count": 17,
   "metadata": {},
   "outputs": [
    {
     "data": {
      "text/plain": [
       "(7235, 500)"
      ]
     },
     "execution_count": 17,
     "metadata": {},
     "output_type": "execute_result"
    }
   ],
   "source": [
    "from sklearn.feature_extraction.text import ENGLISH_STOP_WORDS\n",
    "from sklearn.feature_extraction.text import TfidfVectorizer\n",
    "\n",
    "# Custom stop words for Spanish (basic set, could be expanded)\n",
    "spanish_stop_words = list(ENGLISH_STOP_WORDS) + [\n",
    "    'que', 'de', 'el', 'la', 'los', 'las', 'un', 'una', 'y', 'en', 'para', 'por', \n",
    "    'con', 'del', 'al', 'se', 'lo', 'como', 'más', 'sin', 'su', 'a', 'es', 'o', 'sus'\n",
    "]\n",
    "\n",
    "# Re-run TF-IDF vectorization with the custom stop words\n",
    "vectorizer = TfidfVectorizer(max_features=500, stop_words=spanish_stop_words)\n",
    "item_embeddings = vectorizer.fit_transform(items_data['item_descriptions'])\n",
    "\n",
    "# Convert sparse matrix to dense format for clustering\n",
    "item_embeddings_dense = item_embeddings.toarray()\n",
    "\n",
    "# Check the shape of the embeddings\n",
    "item_embeddings_dense.shape"
   ]
  },
  {
   "cell_type": "code",
   "execution_count": 19,
   "metadata": {},
   "outputs": [
    {
     "data": {
      "image/png": "[encoded data removed]",
      "text/plain": [
       "<Figure size 800x500 with 1 Axes>"
      ]
     },
     "metadata": {},
     "output_type": "display_data"
    }
   ],
   "source": [
    "from sklearn.cluster import KMeans\n",
    "import matplotlib.pyplot as plt\n",
    "\n",
    "# Determine the optimal number of clusters using the Elbow Method\n",
    "inertia = []\n",
    "cluster_range = range(2, 300)  # Trying 2 to 10 clusters\n",
    "\n",
    "for k in cluster_range:\n",
    "    kmeans = KMeans(n_clusters=k, random_state=42, n_init=10)\n",
    "    kmeans.fit(item_embeddings_dense)\n",
    "    inertia.append(kmeans.inertia_)\n",
    "\n",
    "# Plot the Elbow Curve\n",
    "plt.figure(figsize=(8, 5))\n",
    "plt.plot(cluster_range, inertia, marker='o')\n",
    "plt.title('Elbow Method for Optimal Clusters')\n",
    "plt.xlabel('Number of Clusters')\n",
    "plt.ylabel('Inertia')\n",
    "plt.grid()\n",
    "plt.show()\n"
   ]
  },
  {
   "cell_type": "code",
   "execution_count": 11,
   "metadata": {},
   "outputs": [
    {
     "data": {
      "text/plain": [
       "'../clustered/clustered_items.csv'"
      ]
     },
     "execution_count": 11,
     "metadata": {},
     "output_type": "execute_result"
    }
   ],
   "source": [
    "# Re-import necessary libraries and reload the file\n",
    "import pandas as pd\n",
    "import json\n",
    "from sklearn.feature_extraction.text import TfidfVectorizer\n",
    "from sklearn.cluster import KMeans\n",
    "\n",
    "# Load the file\n",
    "file_path = '../extracted/tender.csv'\n",
    "data = pd.read_csv(file_path)\n",
    "\n",
    "# Extract and structure the \"items\" column data\n",
    "def extract_items(row):\n",
    "    try:\n",
    "        items = json.loads(row)['items']\n",
    "        return [item['description'] for item in items]\n",
    "    except (KeyError, TypeError, json.JSONDecodeError):\n",
    "        return []\n",
    "\n",
    "# Apply the function to the \"items\" column\n",
    "data['item_descriptions'] = data['items'].apply(extract_items)\n",
    "\n",
    "# Flatten the dataset to have one row per item description\n",
    "items_data = data.explode('item_descriptions')[['tender_id', 'category', 'item_descriptions']]\n",
    "\n",
    "# Drop rows with missing item descriptions\n",
    "items_data = items_data.dropna(subset=['item_descriptions']).reset_index(drop=True)\n",
    "\n",
    "# Generate embeddings using TF-IDF vectorization\n",
    "spanish_stop_words = [\n",
    "    'que', 'de', 'el', 'la', 'los', 'las', 'un', 'una', 'y', 'en', 'para', 'por', \n",
    "    'con', 'del', 'al', 'se', 'lo', 'como', 'más', 'sin', 'su', 'a', 'es', 'o', 'sus'\n",
    "]\n",
    "vectorizer = TfidfVectorizer(max_features=500, stop_words=spanish_stop_words)\n",
    "item_embeddings = vectorizer.fit_transform(items_data['item_descriptions'])\n",
    "\n",
    "# Convert sparse matrix to dense format for clustering\n",
    "item_embeddings_dense = item_embeddings.toarray()\n",
    "\n",
    "# Cluster with the chosen number of clusters (25)\n",
    "optimal_clusters = 25\n",
    "kmeans = KMeans(n_clusters=optimal_clusters, random_state=42, n_init=10)\n",
    "items_data['cluster'] = kmeans.fit_predict(item_embeddings_dense)\n",
    "\n",
    "# Save the clustering output to a CSV file\n",
    "output_path = '../clustered/clustered_items.csv'\n",
    "items_data.to_csv(output_path, index=False)\n",
    "\n",
    "output_path"
   ]
  },
  {
   "cell_type": "code",
   "execution_count": 14,
   "metadata": {},
   "outputs": [
    {
     "name": "stderr",
     "output_type": "stream",
     "text": [
      "/var/folders/rl/lqnt2ld96wb6xvw28szh41d40000gn/T/ipykernel_75668/1989132876.py:42: SettingWithCopyWarning: \n",
      "A value is trying to be set on a copy of a slice from a DataFrame.\n",
      "Try using .loc[row_indexer,col_indexer] = value instead\n",
      "\n",
      "See the caveats in the documentation: https://pandas.pydata.org/pandas-docs/stable/user_guide/indexing.html#returning-a-view-versus-a-copy\n",
      "  flat_items_data['cluster'] = kmeans.fit_predict(item_embeddings.toarray())\n"
     ]
    },
    {
     "data": {
      "text/plain": [
       "'../clustered/clustered_items.csv'"
      ]
     },
     "execution_count": 14,
     "metadata": {},
     "output_type": "execute_result"
    }
   ],
   "source": [
    "\n",
    "# Re-import necessary libraries and reload the file\n",
    "import pandas as pd\n",
    "import json\n",
    "from sklearn.feature_extraction.text import TfidfVectorizer\n",
    "from sklearn.cluster import KMeans\n",
    "\n",
    "# Load the new file\n",
    "file_path = '../extracted/tender.csv'\n",
    "data = pd.read_csv(file_path)\n",
    "\n",
    "# Repeat the extraction process with item indices\n",
    "def extract_items_with_index(row):\n",
    "    try:\n",
    "        items = json.loads(row)['items']\n",
    "        return [{'description': item['description'], 'index': item['item']} for item in items]\n",
    "    except (KeyError, TypeError, json.JSONDecodeError):\n",
    "        return []\n",
    "\n",
    "# Apply the updated function to the \"items\" column\n",
    "data['item_details'] = data['items'].apply(extract_items_with_index)\n",
    "\n",
    "# Flatten the dataset to have one row per item description with the item index\n",
    "flat_items = data.explode('item_details')\n",
    "flat_items = flat_items.dropna(subset=['item_details']).reset_index(drop=True)\n",
    "\n",
    "flat_items['item_descriptions'] = flat_items['item_details'].apply(lambda x: x['description'])\n",
    "flat_items['item_index'] = flat_items['item_details'].apply(lambda x: x['index'])\n",
    "\n",
    "# Keep necessary columns only\n",
    "flat_items_data = flat_items[['tender_id', 'category', 'item_index', 'item_descriptions']]\n",
    "\n",
    "# Re-generate embeddings using TF-IDF vectorization\n",
    "spanish_stop_words = [\n",
    "    'que', 'de', 'el', 'la', 'los', 'las', 'un', 'una', 'y', 'en', 'para', 'por', \n",
    "    'con', 'del', 'al', 'se', 'lo', 'como', 'más', 'sin', 'su', 'a', 'es', 'o', 'sus'\n",
    "]\n",
    "vectorizer = TfidfVectorizer(max_features=500, stop_words=spanish_stop_words)\n",
    "item_embeddings = vectorizer.fit_transform(flat_items_data['item_descriptions'])\n",
    "\n",
    "# Cluster with the chosen number of clusters (25)\n",
    "kmeans = KMeans(n_clusters=25, random_state=42, n_init=10)\n",
    "flat_items_data['cluster'] = kmeans.fit_predict(item_embeddings.toarray())\n",
    "\n",
    "# Save the updated clustering output to a new CSV file\n",
    "output_path_final = '../clustered/clustered_items.csv'\n",
    "flat_items_data.to_csv(output_path_final, index=False)\n",
    "\n",
    "output_path_final"
   ]
  },
  {
   "cell_type": "code",
   "execution_count": null,
   "metadata": {},
   "outputs": [],
   "source": []
  }
 ],
 "metadata": {
  "kernelspec": {
   "display_name": "venv",
   "language": "python",
   "name": "python3"
  },
  "language_info": {
   "codemirror_mode": {
    "name": "ipython",
    "version": 3
   },
   "file_extension": ".py",
   "mimetype": "text/x-python",
   "name": "python",
   "nbconvert_exporter": "python",
   "pygments_lexer": "ipython3",
   "version": "3.13.0"
  }
 },
 "nbformat": 4,
 "nbformat_minor": 2
}
